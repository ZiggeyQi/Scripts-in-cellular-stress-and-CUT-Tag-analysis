{
 "cells": [
  {
   "cell_type": "markdown",
   "metadata": {},
   "source": [
    "get the interaction interface"
   ]
  },
  {
   "cell_type": "code",
   "execution_count": 6,
   "metadata": {},
   "outputs": [],
   "source": [
    "import os\n",
    "from Bio.PDB import PDBParser\n",
    "from Bio import PDB\n",
    "import multiprocessing"
   ]
  },
  {
   "cell_type": "code",
   "execution_count": 7,
   "metadata": {},
   "outputs": [],
   "source": [
    "# define the function to get the interface site\n",
    "def get_interface(pbd_file_list):\n",
    "    interface={}\n",
    "    for pbd_file in pbd_file_list:\n",
    "        basename=os.path.basename(pbd_file).split('_')[0]\n",
    "        # Load the PDB file\n",
    "        parser = PDBParser()\n",
    "        structure = parser.get_structure('protein', pbd_file)\n",
    "        # Extract residues within a distance threshold\n",
    "        threshold = 5.0  # Distance threshold for interface residues\n",
    "        chainA = structure[0]['A'] \n",
    "        chainB = structure[0]['B']\n",
    "        res_A = sorted([res for res in chainA.get_residues() if res.get_id()[0] ==' ']) \n",
    "        res_B = sorted([res for res in chainB.get_residues() if res.get_id()[0] ==' '])\n",
    "        interface1_list = []; interface2_list = []\n",
    "        for res1 in res_A:\n",
    "            for res2 in res_B:\n",
    "                if res1['CA']-res2['CA'] < threshold:\n",
    "                    res10=res1.get_id()[1]\n",
    "                    res20=res2.get_id()[1]\n",
    "                    interface1_list.append(res10)\n",
    "                    interface2_list.append(res20)\n",
    "                    if basename not in interface:\n",
    "                        interface[basename]=[[res10],[res20]]\n",
    "                    else:\n",
    "                        interface[basename][0].append(res10)\n",
    "                        interface[basename][1].append(res20)\n",
    "    for key in interface:\n",
    "        interface[key][0]=sorted(list(set(interface[key][0])))\n",
    "        interface[key][1]=sorted(list(set(interface[key][1])))\n",
    "    return interface\n"
   ]
  },
  {
   "cell_type": "code",
   "execution_count": null,
   "metadata": {},
   "outputs": [],
   "source": [
    "if __name__ == \"__main__\":\n",
    "    input_path='E:\\\\博士\\\\实验结果\\\\Pol II Ser-2P and stress\\\\protein interaction\\\\AF2\\\\test'\n",
    "    output_path='E:\\\\博士\\\\实验结果\\\\Pol II Ser-2P and stress\\\\protein interaction\\\\AF2'\n",
    "    output_file='E:\\\\博士\\\\实验结果\\\\Pol II Ser-2P and stress\\\\protein interaction\\\\AF2\\\\test.txt'\n",
    "    pbd_file_list = [os.path.join(input_path,i) for i in os.listdir(input_path)]\n",
    "    interfacesite=get_interface(pbd_file_list)\n",
    "    with open(output_file,'w') as op:\n",
    "        for key, [rpb1,fbxo11] in interfacesite.items():\n",
    "            op.write(f\"{key}\\t{rpb1}\\t{fbxo11}\\n\")"
   ]
  },
  {
   "cell_type": "code",
   "execution_count": 8,
   "metadata": {},
   "outputs": [],
   "source": [
    "\n",
    "def rename_chains(input_pdb,output_pdb):\n",
    "    parser = PDB.PDBParser(QUIET=True)\n",
    "    structure = parser.get_structure('complex', input_pdb)\n",
    "    # 遍历所有链\n",
    "    for model in structure:\n",
    "        count=0\n",
    "        for chain in model:\n",
    "            # 将第一条链命名为'A'，第二条链命名为'B'\n",
    "            if count==0:\n",
    "                chain.id='A'; count+=1\n",
    "            elif count==1:\n",
    "                chain.id='B'; count+=1\n",
    "            else:\n",
    "                break\n",
    "\n",
    "    # 保存修改后的PDB文件\n",
    "    io = PDB.PDBIO()\n",
    "    io.set_structure(structure)\n",
    "    io.save(output_pdb)\n"
   ]
  },
  {
   "cell_type": "code",
   "execution_count": 11,
   "metadata": {},
   "outputs": [],
   "source": [
    "def output_interface(output_file):\n",
    "    input_path='/gpfs/home/qihansong/project/RPB1_stress/RPB1-FBXO11-complex/predicted_complex_pool'\n",
    "    output_path='/gpfs/home/qihansong/project/RPB1_stress/RPB1-FBXO11-complex/edited'\n",
    "    input_pdb_list = [os.path.join(input_path,i) for i in os.listdir(input_path)]\n",
    "    for input_pdb in input_pdb_list:\n",
    "        name=os.path.basename(input_pdb).replace('.pdb', '_renamed.pdb')\n",
    "        output_pdb=os.path.join(output_path,name)\n",
    "        rename_chains(input_pdb,output_pdb)\n",
    "    pdb_file_list = [os.path.join(output_path,i) for i in os.listdir(output_path)]\n",
    "    interfacesite=get_interface(pdb_file_list)\n",
    "    with open(output_file,'w') as op:\n",
    "        for key, [rpb1,fbxo11] in interfacesite.items():\n",
    "            op.write(f\"{key}\\t{rpb1}\\t{fbxo11}\\n\")"
   ]
  },
  {
   "cell_type": "code",
   "execution_count": 13,
   "metadata": {},
   "outputs": [],
   "source": [
    "if __name__ == \"__main__\":\n",
    "    output_file='/gpfs/home/qihansong/project/RPB1_stress/RPB1-FBXO11-complex/interaction_info/interaction_site.txt'\n",
    "    pool = multiprocessing.Pool(processes=4)\n",
    "    pool.starmap(output_interface,output_file)\n",
    "    #output_interface(output_file)\n",
    "    # Close the pool and wait for the processes to finish\n",
    "    pool.close()\n",
    "    pool.join()"
   ]
  }
 ],
 "metadata": {
  "kernelspec": {
   "display_name": "Python 3",
   "language": "python",
   "name": "python3"
  },
  "language_info": {
   "codemirror_mode": {
    "name": "ipython",
    "version": 3
   },
   "file_extension": ".py",
   "mimetype": "text/x-python",
   "name": "python",
   "nbconvert_exporter": "python",
   "pygments_lexer": "ipython3",
   "version": "3.9.2"
  }
 },
 "nbformat": 4,
 "nbformat_minor": 2
}
